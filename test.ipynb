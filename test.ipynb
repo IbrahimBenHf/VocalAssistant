{
 "cells": [
  {
   "cell_type": "code",
   "execution_count": 19,
   "metadata": {
    "collapsed": true,
    "pycharm": {
     "name": "#%%\n"
    }
   },
   "outputs": [
    {
     "data": {
      "text/plain": "\"from docx import Document\\nimport os\\ndocument = Document()\\ndocument.add_heading('fahd Title', 0)\\ndocument.add_paragraph('hello world im newton world')\\ndocument.save('test.docx')\\nos.startfile('test.docx')\""
     },
     "execution_count": 19,
     "metadata": {},
     "output_type": "execute_result"
    }
   ],
   "source": [
    "\"\"\"from docx import Document\n",
    "import os\n",
    "document = Document()\n",
    "document.add_heading('fahd Title', 0)\n",
    "document.add_paragraph('hello world im newton world')\n",
    "document.save('test.docx')\n",
    "os.startfile('test.docx')\"\"\"\n"
   ]
  },
  {
   "cell_type": "code",
   "execution_count": 20,
   "outputs": [],
   "source": [
    "from docx import Document\n",
    "import os\n",
    "from docx.shared import Inches\n",
    "\n",
    "document = Document('test.docx')\n",
    "\n",
    "document.add_page_break()\n",
    "\n",
    "document.add_heading('Document Title', 0)\n",
    "\n",
    "p = document.add_paragraph('A plain paragraph having some ')\n",
    "p.add_run('bold').bold = True\n",
    "p.add_run(' and some ')\n",
    "p.add_run('italic.').italic = True\n",
    "\n",
    "document.add_heading('Heading, level 1', level=1)\n",
    "document.add_paragraph('Intense quote', style='Intense Quote')\n",
    "\n",
    "document.add_paragraph(\n",
    "    'first item in unordered list', style='List Bullet'\n",
    ")\n",
    "document.add_paragraph(\n",
    "    'first item in ordered list', style='List Number'\n",
    ")\n",
    "\n",
    "\n",
    "\n",
    "records = (\n",
    "    (3, '101', 'Spam'),\n",
    "    (7, '422', 'Eggs'),\n",
    "    (4, '631', 'Spam, spam, eggs, and spam')\n",
    ")\n",
    "\n",
    "table = document.add_table(rows=1, cols=3)\n",
    "hdr_cells = table.rows[0].cells\n",
    "hdr_cells[0].text = 'Qty'\n",
    "hdr_cells[1].text = 'Id'\n",
    "hdr_cells[2].text = 'Desc'\n",
    "for qty, id, desc in records:\n",
    "    row_cells = table.add_row().cells\n",
    "    row_cells[0].text = str(qty)\n",
    "    row_cells[1].text = id\n",
    "    row_cells[2].text = desc\n",
    "for paragraph in document.paragraphs:\n",
    "    if 'fahd' in paragraph.text:\n",
    "        paragraph.text = 'new text containing ocean'\n",
    "document.add_page_break()\n",
    "\n",
    "document.save('test.docx')\n",
    "os.startfile('test.docx')"
   ],
   "metadata": {
    "collapsed": false,
    "pycharm": {
     "name": "#%%\n"
    }
   }
  },
  {
   "cell_type": "code",
   "execution_count": 22,
   "outputs": [],
   "source": [
    "import os\n",
    "from datetime import datetime\n",
    "document = Document('PSD.docx')\n",
    "for paragraph in document.paragraphs:\n",
    "    if 'BUSS' in paragraph.text:\n",
    "        paragraph.text = 'BUSS-3322'\n",
    "document.save('PSD.docx')\n",
    "os.startfile('PSD.docx')"
   ],
   "metadata": {
    "collapsed": false,
    "pycharm": {
     "name": "#%%\n"
    }
   }
  },
  {
   "cell_type": "code",
   "execution_count": 28,
   "outputs": [],
   "source": [
    "import win32com.client\n",
    "outlook = win32com.client.Dispatch(\"Outlook.Application\")\n",
    "Msg = outlook.CreateItem(0) # Email\n",
    "Msg.To = \"ibrahimbenhf@gmail.com\" # you can add multiple emails with the ; as delimiter. E.g. test@test.com; test2@test.com;\n",
    "#Msg.CC = \"test@test.com\"\n",
    "Msg.Subject = \"my friend\"\n",
    "Msg.Body = \"hello, thank your.\"\n",
    "Msg.Send()"
   ],
   "metadata": {
    "collapsed": false,
    "pycharm": {
     "name": "#%%\n"
    }
   }
  },
  {
   "cell_type": "code",
   "execution_count": 29,
   "outputs": [],
   "source": [
    "import win32com.client\n",
    "outlook = win32com.client.Dispatch(\"Outlook.Application\")\n",
    "appt = outlook.CreateItem(1) # AppointmentItem\n",
    "appt.Start = \"2022-01-02 14:10\" # yyyy-MM-dd hh:mm\n",
    "appt.Subject = \"Subject of the meeting\"\n",
    "appt.Duration = 60 # In minutes (60 Minutes)\n",
    "appt.Location = \"Location Name\"\n",
    "appt.MeetingStatus = 1 # 1 - olMeeting; Changing the appointment to meeting. Only after changing the meeting status recipients can be added\n",
    "appt.Recipients.Add(\"ibrahimbenhf@gmail.com\") # Don't end ; as delimiter\n",
    "appt.Save()\n",
    "appt.Send()"
   ],
   "metadata": {
    "collapsed": false,
    "pycharm": {
     "name": "#%%\n"
    }
   }
  },
  {
   "cell_type": "code",
   "execution_count": 25,
   "outputs": [],
   "source": [
    "from openpyxl import Workbook\n",
    "\n",
    "workbook = Workbook()\n",
    "spreadsheet = workbook.active\n",
    "spreadsheet[\"A1\"] = \"todo\"\n",
    "spreadsheet[\"B1\"] = \"time\"\n",
    "spreadsheet[\"C1\"] = \"status\"\n",
    "workbook.save(filename=\"todo.xlsx\")"
   ],
   "metadata": {
    "collapsed": false,
    "pycharm": {
     "name": "#%%\n"
    }
   }
  },
  {
   "cell_type": "code",
   "execution_count": 6,
   "outputs": [
    {
     "name": "stdout",
     "output_type": "stream",
     "text": [
      "True\n"
     ]
    }
   ],
   "source": [
    "import os\n",
    "path = os.getenv('APPDATA')+'/vermera'\n",
    "\n",
    "# Check whether the specified path exists or not\n",
    "print(os.path.exists(path+'/todo.xlsx'))"
   ],
   "metadata": {
    "collapsed": false,
    "pycharm": {
     "name": "#%%\n"
    }
   }
  },
  {
   "cell_type": "code",
   "execution_count": 27,
   "outputs": [
    {
     "name": "stdout",
     "output_type": "stream",
     "text": [
      "          todo                 time   status\n",
      "0     good day  10/02/2022 23:10:02  Pending\n",
      "1  hello world  10/02/2022 23:08:35  Pending\n"
     ]
    }
   ],
   "source": [
    "from openpyxl import load_workbook\n",
    "import os\n",
    "import pandas as pd\n",
    "path = os.getenv('APPDATA')+'/vermera/todo.xlsx'\n",
    "\n",
    "df = pd.read_excel(path, sheet_name='Sheet')\n",
    "df = df.loc[df['status'] == 'Pending']\n",
    "print(df)"
   ],
   "metadata": {
    "collapsed": false,
    "pycharm": {
     "name": "#%%\n"
    }
   }
  },
  {
   "cell_type": "code",
   "execution_count": 7,
   "outputs": [
    {
     "name": "stdout",
     "output_type": "stream",
     "text": [
      "C:\\Users\\user\\Desktop\n"
     ]
    }
   ],
   "source": [
    "import os\n",
    "desktop = os.path.join(os.path.join(os.environ['USERPROFILE']), 'Desktop')\n",
    "print(desktop)"
   ],
   "metadata": {
    "collapsed": false,
    "pycharm": {
     "name": "#%%\n"
    }
   }
  },
  {
   "cell_type": "code",
   "execution_count": 8,
   "outputs": [],
   "source": [
    "from docx import Document\n",
    "import os\n",
    "from docx.shared import Inches\n",
    "\n",
    "document = Document('PSD.docx')\n",
    "\n",
    "path=os.path.join(os.path.join(os.environ['USERPROFILE']), 'Desktop') + '\\\\P.docx'\n",
    "document.save(path)\n",
    "os.startfile(path)"
   ],
   "metadata": {
    "collapsed": false,
    "pycharm": {
     "name": "#%%\n"
    }
   }
  },
  {
   "cell_type": "code",
   "execution_count": 4,
   "outputs": [
    {
     "data": {
      "text/plain": "'2022-03-28'"
     },
     "execution_count": 4,
     "metadata": {},
     "output_type": "execute_result"
    }
   ],
   "source": [
    "from datetime import datetime\n",
    "datetime.today().strftime('%Y-%m-%d')"
   ],
   "metadata": {
    "collapsed": false,
    "pycharm": {
     "name": "#%%\n"
    }
   }
  }
 ],
 "metadata": {
  "kernelspec": {
   "display_name": "Python 3",
   "language": "python",
   "name": "python3"
  },
  "language_info": {
   "codemirror_mode": {
    "name": "ipython",
    "version": 2
   },
   "file_extension": ".py",
   "mimetype": "text/x-python",
   "name": "python",
   "nbconvert_exporter": "python",
   "pygments_lexer": "ipython2",
   "version": "2.7.6"
  }
 },
 "nbformat": 4,
 "nbformat_minor": 0
}